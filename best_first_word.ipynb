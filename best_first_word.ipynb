{
 "cells": [
  {
   "cell_type": "code",
   "execution_count": 76,
   "metadata": {},
   "outputs": [
    {
     "name": "stdout",
     "output_type": "stream",
     "text": [
      "[['a', 0, 0], ['a', 1, 0], ['a', 2, 0], ['a', 3, 0], ['a', 4, 0], ['b', 0, 0], ['b', 1, 0], ['b', 2, 0], ['b', 3, 0], ['b', 4, 0], ['c', 0, 0], ['c', 1, 0], ['c', 2, 0], ['c', 3, 0], ['c', 4, 0], ['d', 0, 0], ['d', 1, 0], ['d', 2, 0], ['d', 3, 0], ['d', 4, 0], ['e', 0, 0], ['e', 1, 0], ['e', 2, 0], ['e', 3, 0], ['e', 4, 0], ['f', 0, 0], ['f', 1, 0], ['f', 2, 0], ['f', 3, 0], ['f', 4, 0], ['g', 0, 0], ['g', 1, 0], ['g', 2, 0], ['g', 3, 0], ['g', 4, 0], ['h', 0, 0], ['h', 1, 0], ['h', 2, 0], ['h', 3, 0], ['h', 4, 0], ['i', 0, 0], ['i', 1, 0], ['i', 2, 0], ['i', 3, 0], ['i', 4, 0], ['j', 0, 0], ['j', 1, 0], ['j', 2, 0], ['j', 3, 0], ['j', 4, 0], ['k', 0, 0], ['k', 1, 0], ['k', 2, 0], ['k', 3, 0], ['k', 4, 0], ['l', 0, 0], ['l', 1, 0], ['l', 2, 0], ['l', 3, 0], ['l', 4, 0], ['m', 0, 0], ['m', 1, 0], ['m', 2, 0], ['m', 3, 0], ['m', 4, 0], ['n', 0, 0], ['n', 1, 0], ['n', 2, 0], ['n', 3, 0], ['n', 4, 0], ['o', 0, 0], ['o', 1, 0], ['o', 2, 0], ['o', 3, 0], ['o', 4, 0], ['p', 0, 0], ['p', 1, 0], ['p', 2, 0], ['p', 3, 0], ['p', 4, 0], ['q', 0, 0], ['q', 1, 0], ['q', 2, 0], ['q', 3, 0], ['q', 4, 0], ['r', 0, 0], ['r', 1, 0], ['r', 2, 0], ['r', 3, 0], ['r', 4, 0], ['s', 0, 0], ['s', 1, 0], ['s', 2, 0], ['s', 3, 0], ['s', 4, 0], ['t', 0, 0], ['t', 1, 0], ['t', 2, 0], ['t', 3, 0], ['t', 4, 0], ['u', 0, 0], ['u', 1, 0], ['u', 2, 0], ['u', 3, 0], ['u', 4, 0], ['v', 0, 0], ['v', 1, 0], ['v', 2, 0], ['v', 3, 0], ['v', 4, 0], ['w', 0, 0], ['w', 1, 0], ['w', 2, 0], ['w', 3, 0], ['w', 4, 0], ['x', 0, 0], ['x', 1, 0], ['x', 2, 0], ['x', 3, 0], ['x', 4, 0], ['y', 0, 0], ['y', 1, 0], ['y', 2, 0], ['y', 3, 0], ['y', 4, 0], ['z', 0, 0], ['z', 1, 0], ['z', 2, 0], ['z', 3, 0], ['z', 4, 0]]\n"
     ]
    }
   ],
   "source": [
    "import pandas as pd\n",
    "\n",
    "alphabet = 'abcdefghijklmnopqrstuvwxyz'\n",
    "letter_pos_count = []\n",
    "\n",
    "for letter in alphabet:\n",
    "    for i in range(0, 5):\n",
    "        letter_pos_count.append([letter, i, 0])\n",
    "\n",
    "print(letter_pos_count)"
   ]
  },
  {
   "cell_type": "code",
   "execution_count": 77,
   "metadata": {},
   "outputs": [],
   "source": [
    "with open('word_bank.txt') as f:\n",
    "    lines = f.readlines()\n",
    "\n",
    "all_words = []\n",
    "\n",
    "for word in lines:\n",
    "    all_words.append(word.strip('\\n'))\n",
    "\n",
    "all_five_letter_words = []\n",
    "\n",
    "for word in all_words:\n",
    "    if (len(word) == 5):\n",
    "        all_five_letter_words.append(word)\n",
    "\n",
    "# print(all_five_letter_words)"
   ]
  },
  {
   "cell_type": "code",
   "execution_count": 78,
   "metadata": {},
   "outputs": [
    {
     "name": "stdout",
     "output_type": "stream",
     "text": [
      "[['a', 0, 1173], ['a', 1, 2871], ['a', 2, 1481], ['a', 3, 1585], ['a', 4, 1282], ['b', 0, 1141], ['b', 1, 108], ['b', 2, 446], ['b', 3, 297], ['b', 4, 97], ['c', 0, 1196], ['c', 1, 254], ['c', 2, 531], ['c', 3, 542], ['c', 4, 221], ['d', 0, 801], ['d', 1, 136], ['d', 2, 514], ['d', 3, 544], ['d', 4, 816], ['e', 0, 421], ['e', 1, 1970], ['e', 2, 1027], ['e', 3, 2509], ['e', 4, 1873], ['f', 0, 684], ['f', 1, 40], ['f', 2, 198], ['f', 3, 215], ['f', 4, 101], ['g', 0, 737], ['g', 1, 102], ['g', 2, 461], ['g', 3, 477], ['g', 4, 194], ['h', 0, 571], ['h', 1, 720], ['h', 2, 208], ['h', 3, 288], ['h', 4, 497], ['i', 0, 301], ['i', 1, 1669], ['i', 2, 1267], ['i', 3, 1321], ['i', 4, 509], ['j', 0, 260], ['j', 1, 19], ['j', 2, 57], ['j', 3, 38], ['j', 4, 2], ['k', 0, 473], ['k', 1, 101], ['k', 2, 309], ['k', 3, 484], ['k', 4, 376], ['l', 0, 679], ['l', 1, 866], ['l', 2, 1060], ['l', 3, 923], ['l', 4, 718], ['m', 0, 849], ['m', 1, 233], ['m', 2, 649], ['m', 3, 466], ['m', 4, 297], ['n', 0, 405], ['n', 1, 557], ['n', 2, 1238], ['n', 3, 934], ['n', 4, 909], ['o', 0, 334], ['o', 1, 2281], ['o', 2, 1154], ['o', 3, 903], ['o', 4, 547], ['p', 0, 944], ['p', 1, 283], ['p', 2, 434], ['p', 3, 424], ['p', 4, 214], ['q', 0, 85], ['q', 1, 21], ['q', 2, 27], ['q', 3, 3], ['q', 4, 3], ['r', 0, 681], ['r', 1, 1151], ['r', 2, 1544], ['r', 3, 872], ['r', 4, 895], ['s', 0, 1813], ['s', 1, 173], ['s', 2, 682], ['s', 3, 721], ['s', 4, 3148], ['t', 0, 981], ['t', 1, 316], ['t', 2, 783], ['t', 3, 1019], ['t', 4, 1090], ['u', 0, 328], ['u', 1, 1403], ['u', 2, 787], ['u', 3, 686], ['u', 4, 157], ['v', 0, 287], ['v', 1, 81], ['v', 2, 287], ['v', 3, 200], ['v', 4, 23], ['w', 0, 468], ['w', 1, 174], ['w', 2, 276], ['w', 3, 159], ['w', 4, 94], ['x', 0, 27], ['x', 1, 74], ['x', 2, 126], ['x', 3, 18], ['x', 4, 116], ['y', 0, 167], ['y', 1, 279], ['y', 2, 229], ['y', 3, 161], ['y', 4, 1685], ['z', 0, 112], ['z', 1, 36], ['z', 2, 143], ['z', 3, 129], ['z', 4, 54]]\n"
     ]
    }
   ],
   "source": [
    "for word in all_five_letter_words:\n",
    "    for i in range(0, 5):\n",
    "        for l in letter_pos_count:\n",
    "            if (l[0] == word[i] and l[1] == i):\n",
    "                l[2] += 1\n",
    "        \n",
    "print(letter_pos_count)"
   ]
  },
  {
   "cell_type": "code",
   "execution_count": 79,
   "metadata": {},
   "outputs": [],
   "source": [
    "words_scores = []\n",
    "\n",
    "for word in all_five_letter_words:\n",
    "    score = 0\n",
    "    for i in range(0, 5):\n",
    "        for l in letter_pos_count:\n",
    "            if (l[0] == word[i] and l[1] == i):\n",
    "                score += l[2]\n",
    "    words_scores.append([word, score])\n",
    "\n",
    "# print(words_scores)"
   ]
  },
  {
   "cell_type": "code",
   "execution_count": 80,
   "metadata": {},
   "outputs": [
    {
     "name": "stdout",
     "output_type": "stream",
     "text": [
      "max_word = sanes\n",
      "max_pts = 11579\n"
     ]
    }
   ],
   "source": [
    "max_word = ''\n",
    "max_pts = 0\n",
    "for lst in words_scores:\n",
    "    if (lst[1] > max_pts):\n",
    "        max_word = lst[0]\n",
    "        max_pts = lst[1]\n",
    "\n",
    "print('max_word = ' + max_word)\n",
    "print('max_pts = ' + str(max_pts))"
   ]
  }
 ],
 "metadata": {
  "interpreter": {
   "hash": "aee8b7b246df8f9039afb4144a1f6fd8d2ca17a180786b69acc140d282b71a49"
  },
  "kernelspec": {
   "display_name": "Python 3.10.0 64-bit",
   "language": "python",
   "name": "python3"
  },
  "language_info": {
   "codemirror_mode": {
    "name": "ipython",
    "version": 3
   },
   "file_extension": ".py",
   "mimetype": "text/x-python",
   "name": "python",
   "nbconvert_exporter": "python",
   "pygments_lexer": "ipython3",
   "version": "3.7.4"
  },
  "orig_nbformat": 4
 },
 "nbformat": 4,
 "nbformat_minor": 2
}
