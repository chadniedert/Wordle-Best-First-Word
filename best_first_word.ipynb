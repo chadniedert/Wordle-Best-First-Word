{
 "cells": [
  {
   "cell_type": "code",
   "execution_count": 50,
   "metadata": {},
   "outputs": [],
   "source": [
    "alphabet = 'abcdefghijklmnopqrstuvwxyz'\n",
    "letter_pos_count = []\n",
    "\n",
    "for letter in alphabet:\n",
    "    for i in range(0, 5):\n",
    "        letter_pos_count.append([letter, i, 0])\n",
    "\n",
    "# print(letter_pos_count)"
   ]
  },
  {
   "cell_type": "code",
   "execution_count": 51,
   "metadata": {},
   "outputs": [],
   "source": [
    "with open('word_bank.txt') as f:\n",
    "    lines = f.readlines()\n",
    "\n",
    "all_words = []\n",
    "\n",
    "for word in lines:\n",
    "    all_words.append(word.strip('\\n'))\n",
    "\n",
    "all_five_letter_words = []\n",
    "\n",
    "for word in all_words:\n",
    "    if (len(word) == 5):\n",
    "        all_five_letter_words.append(word)\n",
    "\n",
    "# print(all_five_letter_words)"
   ]
  },
  {
   "cell_type": "code",
   "execution_count": 52,
   "metadata": {},
   "outputs": [],
   "source": [
    "five_letter_words_no_dup_letters = []\n",
    "for word in all_five_letter_words:\n",
    "    duplicate_found = False\n",
    "    for i in range(0, 4):\n",
    "        if (word[(i + 1):].count(word[i]) > 0):\n",
    "            duplicate_found = True\n",
    "    if duplicate_found == False:\n",
    "        five_letter_words_no_dup_letters.append(word)\n",
    "\n",
    "# print(five_letter_words_no_dup_letters)  "
   ]
  },
  {
   "cell_type": "code",
   "execution_count": 53,
   "metadata": {},
   "outputs": [],
   "source": [
    "for word in five_letter_words_no_dup_letters:\n",
    "    for i in range(0, 5):\n",
    "        for l in letter_pos_count:\n",
    "            if (l[0] == word[i] and l[1] == i):\n",
    "                l[2] += 1\n",
    "\n",
    "# print(letter_pos_count)\n",
    "\n",
    "words_scores = []\n",
    "\n",
    "for word in five_letter_words_no_dup_letters:\n",
    "    score = 0\n",
    "    for i in range(0, 5):\n",
    "        for l in letter_pos_count:\n",
    "            if (l[0] == word [i] and l[1] == i):\n",
    "                score += l[2]\n",
    "    words_scores.append([word, score])\n",
    "\n",
    "# print(words_scores)"
   ]
  },
  {
   "cell_type": "code",
   "execution_count": 54,
   "metadata": {},
   "outputs": [
    {
     "name": "stdout",
     "output_type": "stream",
     "text": [
      "max_word = cares\n",
      "max_pts = 7379\n"
     ]
    }
   ],
   "source": [
    "max_word = ''\n",
    "max_pts = 0\n",
    "for lst in words_scores:\n",
    "    if (lst[1] > max_pts):\n",
    "        max_word = lst[0]\n",
    "        max_pts = lst[1]\n",
    "\n",
    "print('max_word = ' + max_word)\n",
    "print('max_pts = ' + str(max_pts))"
   ]
  }
 ],
 "metadata": {
  "interpreter": {
   "hash": "aee8b7b246df8f9039afb4144a1f6fd8d2ca17a180786b69acc140d282b71a49"
  },
  "kernelspec": {
   "display_name": "Python 3.10.0 64-bit",
   "language": "python",
   "name": "python3"
  },
  "language_info": {
   "codemirror_mode": {
    "name": "ipython",
    "version": 3
   },
   "file_extension": ".py",
   "mimetype": "text/x-python",
   "name": "python",
   "nbconvert_exporter": "python",
   "pygments_lexer": "ipython3",
   "version": "3.7.4"
  },
  "orig_nbformat": 4
 },
 "nbformat": 4,
 "nbformat_minor": 2
}
